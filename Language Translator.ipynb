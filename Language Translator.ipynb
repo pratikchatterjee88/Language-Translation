{
 "cells": [
  {
   "cell_type": "code",
   "execution_count": null,
   "metadata": {},
   "outputs": [],
   "source": [
    "import pandas as pd\n",
    "from textblob import TextBlob\n",
    "import time\n",
    "\n",
    "def translate(x):\n",
    "    try:\n",
    "        blob=TextBlob(x)\n",
    "        return (str(blob.translate(to='en')))\n",
    "    except:\n",
    "        return None\n",
    "    \n",
    "data[\"Concat(New)\"]=data['Concat(New)'].astype(str)\n",
    "\n",
    "\n",
    "strt_time=time.time()\n",
    "data[\"Translated\"]=data[\"Concat(New)\"].apply(lambda x:translate(x))\n",
    "end_time=time.time()\n",
    "print(end_time-strt_time)"
   ]
  },
  {
   "cell_type": "code",
   "execution_count": null,
   "metadata": {},
   "outputs": [],
   "source": []
  }
 ],
 "metadata": {
  "kernelspec": {
   "display_name": "Python 3",
   "language": "python",
   "name": "python3"
  },
  "language_info": {
   "codemirror_mode": {
    "name": "ipython",
    "version": 3
   },
   "file_extension": ".py",
   "mimetype": "text/x-python",
   "name": "python",
   "nbconvert_exporter": "python",
   "pygments_lexer": "ipython3",
   "version": "3.8.5"
  }
 },
 "nbformat": 4,
 "nbformat_minor": 4
}
